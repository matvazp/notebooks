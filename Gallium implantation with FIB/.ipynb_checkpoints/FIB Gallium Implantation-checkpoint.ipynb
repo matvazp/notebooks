{
 "cells": [
  {
   "cell_type": "markdown",
   "id": "d867692c",
   "metadata": {},
   "source": [
    "# FIB-driven Gallium implantation"
   ]
  },
  {
   "cell_type": "markdown",
   "id": "b426bdec",
   "metadata": {},
   "source": [
    "<img src=\"data/IMG_2470.JPG\" width=\"900px\">"
   ]
  },
  {
   "cell_type": "markdown",
   "id": "0b89b51d-20f1-4a55-96fc-c6eb6ba9e529",
   "metadata": {},
   "source": [
    "* Dose: 1-40 fC/&mu;m<sup>2</sup> (20 fC/&mu;m<sup>2</sup> &plusmn; 10)\n",
    "* Acceleration voltage: 12-20 kV\n",
    "* -1500% overlap (can go down to -3000%\n",
    "\n",
    "\n",
    "Fix chip with carbon tape\n",
    "Cleaning with chloroform + annealing \n",
    "\n",
    "1. Define a rectangle of 2 by 3 &mu;m\n",
    "\n",
    "Determine the dwell time range so the dwell time ranges from 1 to 40 fC/&mu;m<sup>2</sup>\n",
    "What is the beam current? \n",
    "\n",
    "| BEAM CURRENT | ACCELERATION VOLTAGE | OVERLAP | DWELL TIME | DOSE | FOCUS | COMMENT | \n",
    "|--:|--:|--:|--:|--:|--:|--:|\n",
    "| 1pA   | 5 kV  | -1500 ||| YES || \n",
    "| 1pA   | 10 kV | -1500 ||| YES || \n",
    "| 1pA   | 15 kV | -1500 ||| YES || \n",
    "| 10pA  | 5 kV  | -1500 ||| YES || \n",
    "| 10pA  | 10 kV | -1500 ||| YES || \n",
    "| 10pA  | 15 kV | -1500 ||| YES ||\n",
    "| 100pA | 5 kV  | -1500 ||| YES || \n",
    "| 100pA | 10 kV | -1500 ||| YES || \n",
    "| 100pA | 15 kV | -1500 ||| YES ||"
   ]
  }
 ],
 "metadata": {
  "kernelspec": {
   "display_name": "Python 3 (ipykernel)",
   "language": "python",
   "name": "python3"
  },
  "language_info": {
   "codemirror_mode": {
    "name": "ipython",
    "version": 3
   },
   "file_extension": ".py",
   "mimetype": "text/x-python",
   "name": "python",
   "nbconvert_exporter": "python",
   "pygments_lexer": "ipython3",
   "version": "3.9.18"
  }
 },
 "nbformat": 4,
 "nbformat_minor": 5
}
