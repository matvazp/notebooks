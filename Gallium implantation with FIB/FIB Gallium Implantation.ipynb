{
 "cells": [
  {
   "cell_type": "code",
   "execution_count": 3,
   "id": "41b618cc-6d86-4048-9f41-c4ae1de51e79",
   "metadata": {
    "tags": []
   },
   "outputs": [],
   "source": [
    "import pyDOE2"
   ]
  },
  {
   "cell_type": "markdown",
   "id": "d867692c",
   "metadata": {},
   "source": [
    "# FIB-driven Gallium implantation"
   ]
  },
  {
   "cell_type": "markdown",
   "id": "b426bdec",
   "metadata": {},
   "source": [
    "<img src=\"data/IMG_2470.JPG\" width=\"900px\">"
   ]
  },
  {
   "cell_type": "markdown",
   "id": "0b89b51d-20f1-4a55-96fc-c6eb6ba9e529",
   "metadata": {},
   "source": [
    "* Dose: 1-40 fC/&mu;m<sup>2</sup> (20 fC/&mu;m<sup>2</sup> &plusmn; 10)\n",
    "* Acceleration voltage: 12-20 kV\n",
    "* -1500% overlap (can go down to -3000%\n",
    "\n",
    "\n",
    "Fix chip with carbon tape\n",
    "Cleaning with chloroform + annealing \n",
    "\n",
    "1. Define a rectangle of 2 by 2 &mu;m\n",
    "2. Set the parameters specified in the table below\n",
    "\n",
    "Determine the dwell time range so the dwell time ranges from 1 to 40 fC/&mu;m<sup>2</sup>\n",
    "What is the beam current? \n",
    "\n",
    "| BEAM CURRENT | ACCELERATION VOLTAGE | OVERLAP | DWELL TIME | DOSE | FOCUS | COMMENT | \n",
    "|--:|--:|--:|--:|--:|--:|--:|\n",
    "| 1pA   | 5 kV  | -1500 ||| YES || \n",
    "| 1pA   | 10 kV | -1500 ||| YES || \n",
    "| 1pA   | 15 kV | -1500 ||| YES || \n",
    "| 10pA  | 5 kV  | -1500 ||| YES || \n",
    "| 10pA  | 10 kV | -1500 ||| YES || \n",
    "| 10pA  | 15 kV | -1500 ||| YES ||\n",
    "| 100pA | 5 kV  | -1500 ||| YES || \n",
    "| 100pA | 10 kV | -1500 ||| YES || \n",
    "| 100pA | 15 kV | -1500 ||| YES ||"
   ]
  },
  {
   "cell_type": "markdown",
   "id": "26c5f6ea-2add-43e8-b518-11c3bc58097e",
   "metadata": {},
   "source": [
    "The factors in the experiment are:\n",
    "1. Acceleration voltage: 1 kV - 30 kV\n",
    "2. Beam current: 1 pA - 1000 pA\n",
    "3. Dose (z-size): 1 fC/&mu;m<sup>2</sup> - 40 fC/&mu;m<sup>2</sup>\n",
    "4. Dwell time: 100 ns - 1000 ns\n",
    "5. Overlap percentage: 0 to -1500%\n",
    "\n",
    "The z-size is automatically determined as the desired dose is given.\n",
    "\n",
    "For the first experiment, we fix the dwell time and the overlap percentage. Dwell time is fixed at 100 ns, and overlap percentage is set to -1500% (as suggested by Jeppe). \n",
    "\n",
    "1. Acceleration voltage [V]: 1 kV - 30 kV\n",
    "2. Beam current [I]: 1 pA - 1000 pA\n",
    "3. Dose (z-size) [D]: 1 fC/&mu;m<sup>2</sup> - 40 fC/&mu;m<sup>2</sup>\n"
   ]
  },
  {
   "cell_type": "code",
   "execution_count": 7,
   "id": "5a9becdf-d1fb-46de-ae64-f338b3f374fd",
   "metadata": {
    "tags": []
   },
   "outputs": [
    {
     "name": "stdout",
     "output_type": "stream",
     "text": [
      "Full Factorial Design (coded as -1 for low level and +1 for high level):\n",
      "[[-1. -1. -1.]\n",
      " [ 1. -1. -1.]\n",
      " [-1.  1. -1.]\n",
      " [ 1.  1. -1.]\n",
      " [-1. -1.  1.]\n",
      " [ 1. -1.  1.]\n",
      " [-1.  1.  1.]\n",
      " [ 1.  1.  1.]]\n"
     ]
    }
   ],
   "source": [
    "factors = 3\n",
    "design = pyDOE2.fullfact([2]*factors)\n",
    "print(\"Full Factorial Design (coded as -1 for low level and +1 for high level):\")\n",
    "print(design*2-1)  # Convert 0 to -1 and 1 to +1 for the traditional coding of full factorial designs"
   ]
  },
  {
   "cell_type": "code",
   "execution_count": 8,
   "id": "f7638b44-7288-4b4a-9473-ca50147f11f4",
   "metadata": {
    "tags": []
   },
   "outputs": [
    {
     "name": "stderr",
     "output_type": "stream",
     "text": [
      "C:\\Users\\vazqu\\anaconda3\\Lib\\site-packages\\statsmodels\\regression\\linear_model.py:1716: RuntimeWarning: divide by zero encountered in scalar divide\n",
      "  return np.dot(wresid, wresid) / self.df_resid\n"
     ]
    },
    {
     "ename": "ValueError",
     "evalue": "array must not contain infs or NaNs",
     "output_type": "error",
     "traceback": [
      "\u001b[1;31m---------------------------------------------------------------------------\u001b[0m",
      "\u001b[1;31mValueError\u001b[0m                                Traceback (most recent call last)",
      "Cell \u001b[1;32mIn[8], line 20\u001b[0m\n\u001b[0;32m     17\u001b[0m model \u001b[38;5;241m=\u001b[39m ols(\u001b[38;5;124m'\u001b[39m\u001b[38;5;124mdata ~ C(factor1) + C(factor2) + C(factor1):C(factor2)\u001b[39m\u001b[38;5;124m'\u001b[39m, data\u001b[38;5;241m=\u001b[39m{\u001b[38;5;124m'\u001b[39m\u001b[38;5;124mdata\u001b[39m\u001b[38;5;124m'\u001b[39m: responses, \u001b[38;5;124m'\u001b[39m\u001b[38;5;124mfactor1\u001b[39m\u001b[38;5;124m'\u001b[39m: X[:,\u001b[38;5;241m1\u001b[39m], \u001b[38;5;124m'\u001b[39m\u001b[38;5;124mfactor2\u001b[39m\u001b[38;5;124m'\u001b[39m: X[:,\u001b[38;5;241m2\u001b[39m]})\u001b[38;5;241m.\u001b[39mfit()\n\u001b[0;32m     19\u001b[0m \u001b[38;5;66;03m# Print the ANOVA table\u001b[39;00m\n\u001b[1;32m---> 20\u001b[0m anova_results \u001b[38;5;241m=\u001b[39m sm\u001b[38;5;241m.\u001b[39mstats\u001b[38;5;241m.\u001b[39manova_lm(model, typ\u001b[38;5;241m=\u001b[39m\u001b[38;5;241m2\u001b[39m)\n\u001b[0;32m     21\u001b[0m \u001b[38;5;28mprint\u001b[39m(anova_results)\n\u001b[0;32m     23\u001b[0m \u001b[38;5;66;03m# Create main effects plot\u001b[39;00m\n",
      "File \u001b[1;32m~\\anaconda3\\Lib\\site-packages\\statsmodels\\stats\\anova.py:349\u001b[0m, in \u001b[0;36manova_lm\u001b[1;34m(*args, **kwargs)\u001b[0m\n\u001b[0;32m    347\u001b[0m \u001b[38;5;28;01mif\u001b[39;00m \u001b[38;5;28mlen\u001b[39m(args) \u001b[38;5;241m==\u001b[39m \u001b[38;5;241m1\u001b[39m:\n\u001b[0;32m    348\u001b[0m     model \u001b[38;5;241m=\u001b[39m args[\u001b[38;5;241m0\u001b[39m]\n\u001b[1;32m--> 349\u001b[0m     \u001b[38;5;28;01mreturn\u001b[39;00m anova_single(model, \u001b[38;5;241m*\u001b[39m\u001b[38;5;241m*\u001b[39mkwargs)\n\u001b[0;32m    351\u001b[0m \u001b[38;5;28;01mif\u001b[39;00m typ \u001b[38;5;129;01mnot\u001b[39;00m \u001b[38;5;129;01min\u001b[39;00m [\u001b[38;5;241m1\u001b[39m, \u001b[38;5;124m\"\u001b[39m\u001b[38;5;124mI\u001b[39m\u001b[38;5;124m\"\u001b[39m]:\n\u001b[0;32m    352\u001b[0m     \u001b[38;5;28;01mraise\u001b[39;00m \u001b[38;5;167;01mValueError\u001b[39;00m(\u001b[38;5;124m\"\u001b[39m\u001b[38;5;124mMultiple models only supported for type I. \u001b[39m\u001b[38;5;124m\"\u001b[39m\n\u001b[0;32m    353\u001b[0m                      \u001b[38;5;124m\"\u001b[39m\u001b[38;5;124mGot type \u001b[39m\u001b[38;5;132;01m%s\u001b[39;00m\u001b[38;5;124m\"\u001b[39m \u001b[38;5;241m%\u001b[39m \u001b[38;5;28mstr\u001b[39m(typ))\n",
      "File \u001b[1;32m~\\anaconda3\\Lib\\site-packages\\statsmodels\\stats\\anova.py:80\u001b[0m, in \u001b[0;36manova_single\u001b[1;34m(model, **kwargs)\u001b[0m\n\u001b[0;32m     77\u001b[0m     \u001b[38;5;28;01mreturn\u001b[39;00m anova1_lm_single(model, endog, exog, nobs, design_info, table,\n\u001b[0;32m     78\u001b[0m                             n_rows, test, pr_test, robust)\n\u001b[0;32m     79\u001b[0m \u001b[38;5;28;01melif\u001b[39;00m typ \u001b[38;5;129;01min\u001b[39;00m [\u001b[38;5;241m2\u001b[39m, \u001b[38;5;124m\"\u001b[39m\u001b[38;5;124mII\u001b[39m\u001b[38;5;124m\"\u001b[39m]:\n\u001b[1;32m---> 80\u001b[0m     \u001b[38;5;28;01mreturn\u001b[39;00m anova2_lm_single(model, design_info, n_rows, test, pr_test,\n\u001b[0;32m     81\u001b[0m                             robust)\n\u001b[0;32m     82\u001b[0m \u001b[38;5;28;01melif\u001b[39;00m typ \u001b[38;5;129;01min\u001b[39;00m [\u001b[38;5;241m3\u001b[39m, \u001b[38;5;124m\"\u001b[39m\u001b[38;5;124mIII\u001b[39m\u001b[38;5;124m\"\u001b[39m]:\n\u001b[0;32m     83\u001b[0m     \u001b[38;5;28;01mreturn\u001b[39;00m anova3_lm_single(model, design_info, n_rows, test, pr_test,\n\u001b[0;32m     84\u001b[0m                             robust)\n",
      "File \u001b[1;32m~\\anaconda3\\Lib\\site-packages\\statsmodels\\stats\\anova.py:203\u001b[0m, in \u001b[0;36manova2_lm_single\u001b[1;34m(model, design_info, n_rows, test, pr_test, robust)\u001b[0m\n\u001b[0;32m    201\u001b[0m LVL \u001b[38;5;241m=\u001b[39m np\u001b[38;5;241m.\u001b[39mdot(np\u001b[38;5;241m.\u001b[39mdot(L1,robust_cov),L2\u001b[38;5;241m.\u001b[39mT)\n\u001b[0;32m    202\u001b[0m \u001b[38;5;28;01mfrom\u001b[39;00m \u001b[38;5;21;01mscipy\u001b[39;00m \u001b[38;5;28;01mimport\u001b[39;00m linalg\n\u001b[1;32m--> 203\u001b[0m orth_compl,_ \u001b[38;5;241m=\u001b[39m linalg\u001b[38;5;241m.\u001b[39mqr(LVL)\n\u001b[0;32m    204\u001b[0m r \u001b[38;5;241m=\u001b[39m L1\u001b[38;5;241m.\u001b[39mshape[\u001b[38;5;241m0\u001b[39m] \u001b[38;5;241m-\u001b[39m L2\u001b[38;5;241m.\u001b[39mshape[\u001b[38;5;241m0\u001b[39m]\n\u001b[0;32m    205\u001b[0m \u001b[38;5;66;03m# L1|2\u001b[39;00m\n\u001b[0;32m    206\u001b[0m \u001b[38;5;66;03m# use the non-unique orthogonal completion since L12 is rank r\u001b[39;00m\n",
      "File \u001b[1;32m~\\anaconda3\\Lib\\site-packages\\scipy\\linalg\\_decomp_qr.py:128\u001b[0m, in \u001b[0;36mqr\u001b[1;34m(a, overwrite_a, lwork, mode, pivoting, check_finite)\u001b[0m\n\u001b[0;32m    124\u001b[0m     \u001b[38;5;28;01mraise\u001b[39;00m \u001b[38;5;167;01mValueError\u001b[39;00m(\u001b[38;5;124m\"\u001b[39m\u001b[38;5;124mMode argument should be one of [\u001b[39m\u001b[38;5;124m'\u001b[39m\u001b[38;5;124mfull\u001b[39m\u001b[38;5;124m'\u001b[39m\u001b[38;5;124m, \u001b[39m\u001b[38;5;124m'\u001b[39m\u001b[38;5;124mr\u001b[39m\u001b[38;5;124m'\u001b[39m\u001b[38;5;124m,\u001b[39m\u001b[38;5;124m\"\u001b[39m\n\u001b[0;32m    125\u001b[0m                      \u001b[38;5;124m\"\u001b[39m\u001b[38;5;124m'\u001b[39m\u001b[38;5;124meconomic\u001b[39m\u001b[38;5;124m'\u001b[39m\u001b[38;5;124m, \u001b[39m\u001b[38;5;124m'\u001b[39m\u001b[38;5;124mraw\u001b[39m\u001b[38;5;124m'\u001b[39m\u001b[38;5;124m]\u001b[39m\u001b[38;5;124m\"\u001b[39m)\n\u001b[0;32m    127\u001b[0m \u001b[38;5;28;01mif\u001b[39;00m check_finite:\n\u001b[1;32m--> 128\u001b[0m     a1 \u001b[38;5;241m=\u001b[39m numpy\u001b[38;5;241m.\u001b[39masarray_chkfinite(a)\n\u001b[0;32m    129\u001b[0m \u001b[38;5;28;01melse\u001b[39;00m:\n\u001b[0;32m    130\u001b[0m     a1 \u001b[38;5;241m=\u001b[39m numpy\u001b[38;5;241m.\u001b[39masarray(a)\n",
      "File \u001b[1;32m~\\anaconda3\\Lib\\site-packages\\numpy\\lib\\function_base.py:628\u001b[0m, in \u001b[0;36masarray_chkfinite\u001b[1;34m(a, dtype, order)\u001b[0m\n\u001b[0;32m    626\u001b[0m a \u001b[38;5;241m=\u001b[39m asarray(a, dtype\u001b[38;5;241m=\u001b[39mdtype, order\u001b[38;5;241m=\u001b[39morder)\n\u001b[0;32m    627\u001b[0m \u001b[38;5;28;01mif\u001b[39;00m a\u001b[38;5;241m.\u001b[39mdtype\u001b[38;5;241m.\u001b[39mchar \u001b[38;5;129;01min\u001b[39;00m typecodes[\u001b[38;5;124m'\u001b[39m\u001b[38;5;124mAllFloat\u001b[39m\u001b[38;5;124m'\u001b[39m] \u001b[38;5;129;01mand\u001b[39;00m \u001b[38;5;129;01mnot\u001b[39;00m np\u001b[38;5;241m.\u001b[39misfinite(a)\u001b[38;5;241m.\u001b[39mall():\n\u001b[1;32m--> 628\u001b[0m     \u001b[38;5;28;01mraise\u001b[39;00m \u001b[38;5;167;01mValueError\u001b[39;00m(\n\u001b[0;32m    629\u001b[0m         \u001b[38;5;124m\"\u001b[39m\u001b[38;5;124marray must not contain infs or NaNs\u001b[39m\u001b[38;5;124m\"\u001b[39m)\n\u001b[0;32m    630\u001b[0m \u001b[38;5;28;01mreturn\u001b[39;00m a\n",
      "\u001b[1;31mValueError\u001b[0m: array must not contain infs or NaNs"
     ]
    }
   ],
   "source": [
    "import numpy as np\n",
    "import statsmodels.api as sm\n",
    "import matplotlib.pyplot as plt\n",
    "from statsmodels.formula.api import ols\n",
    "\n",
    "# Let's assume we have some response data from our experiment.\n",
    "# Replace these values with your actual experimental results.\n",
    "responses = [20, 30, 25, 45]  # Hypothetical response data for the 4 runs\n",
    "\n",
    "# Factorial design from the previous example\n",
    "design = np.array([[-1, -1], [-1, 1], [1, -1], [1, 1]])\n",
    "\n",
    "# We need to add a constant term to include the intercept in our model\n",
    "X = sm.add_constant(design)\n",
    "\n",
    "# Fit the ANOVA model\n",
    "model = ols('data ~ C(factor1) + C(factor2) + C(factor1):C(factor2)', data={'data': responses, 'factor1': X[:,1], 'factor2': X[:,2]}).fit()\n",
    "\n",
    "# Print the ANOVA table\n",
    "anova_results = sm.stats.anova_lm(model, typ=2)\n",
    "print(anova_results)\n",
    "\n",
    "# Create main effects plot\n",
    "plt.figure(figsize=(10, 5))\n",
    "plt.subplot(1, 2, 1)\n",
    "plt.title('Main Effects Plot')\n",
    "plt.plot([-1, 1], [np.mean(responses[:2]), np.mean(responses[2:])], label='Factor 1')\n",
    "plt.plot([-1, 1], [np.mean(responses[::2]), np.mean(responses[1::2])], label='Factor 2')\n",
    "plt.xlabel('Level')\n",
    "plt.ylabel('Mean Response')\n",
    "plt.xticks([-1, 1], ['Low', 'High'])\n",
    "plt.legend()\n",
    "\n",
    "# Create interaction plot\n",
    "plt.subplot(1, 2, 2)\n",
    "plt.title('Interaction Plot')\n",
    "plt.plot([-1, 1], [responses[0], responses[1]], label='Factor 1 at Low')\n",
    "plt.plot([-1, 1], [responses[2], responses[3]], label='Factor 1 at High')\n",
    "plt.xlabel('Factor 2 Level')\n",
    "plt.ylabel('Response')\n",
    "plt.xticks([-1, 1], ['Low', 'High'])\n",
    "plt.legend()\n",
    "\n",
    "plt.tight_layout()\n",
    "plt.show()\n"
   ]
  }
 ],
 "metadata": {
  "kernelspec": {
   "display_name": "Python 3 (ipykernel)",
   "language": "python",
   "name": "python3"
  },
  "language_info": {
   "codemirror_mode": {
    "name": "ipython",
    "version": 3
   },
   "file_extension": ".py",
   "mimetype": "text/x-python",
   "name": "python",
   "nbconvert_exporter": "python",
   "pygments_lexer": "ipython3",
   "version": "3.11.5"
  }
 },
 "nbformat": 4,
 "nbformat_minor": 5
}
