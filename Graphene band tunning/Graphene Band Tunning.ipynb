{
 "cells": [
  {
   "cell_type": "markdown",
   "id": "f1a7bcff-30fb-489c-be21-89549bbc888a",
   "metadata": {},
   "source": [
    "# Nanodot arrays in Graphene\n",
    "Stacks of hBN/Gr/hBN for single pixel patters with the Nanofrazor. Hall bars will be defined with E-BEAM Lithography in these stacks.\n",
    "\n",
    "- Wafers to use: Nova, Khan’s or cryoChips.\n",
    "- Overlap area of top hBN and Graphene has to be as big as possible (10-20 um). Ideally we can fit multiple Hall bars in the overlap area.\n",
    "- The top hBN should be <60nm thick.\n",
    "- Graphene has to be monolayer.\n",
    "- We are etching only the top hBN and graphene in the middle. Bottom hBN is not etched.\n",
    "- Make the make different devices changing the top hBN thickness.\n",
    "\n",
    "## Stacking day 1 (2/Nov/23)\n",
    "Three stacks of hBN/Graphene/hBN. The overlap area must be at least 10 x 5 um to pattern a Hall bar. If possible, larger area to pattern more than one Hall bar. \n",
    "\n",
    "| STACK | TOP hBN | Graphene | Buttom hBN |\n",
    "|---|--:|--:|--:|\n",
    "| Stack 1 | >60 nm | monolayer | >60 nm |\n",
    "| Stack 2 |  60 nm | monolayer | >60 nm |\n",
    "| Stack 3 | <10 nm | monolayer | >60 nm |"
   ]
  }
 ],
 "metadata": {
  "kernelspec": {
   "display_name": "Python 3 (ipykernel)",
   "language": "python",
   "name": "python3"
  },
  "language_info": {
   "codemirror_mode": {
    "name": "ipython",
    "version": 3
   },
   "file_extension": ".py",
   "mimetype": "text/x-python",
   "name": "python",
   "nbconvert_exporter": "python",
   "pygments_lexer": "ipython3",
   "version": "3.9.18"
  }
 },
 "nbformat": 4,
 "nbformat_minor": 5
}
