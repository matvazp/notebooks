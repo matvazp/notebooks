{
 "cells": [
  {
   "cell_type": "markdown",
   "id": "b96d0727",
   "metadata": {},
   "source": [
    "## Active Graphene Membranes"
   ]
  },
  {
   "cell_type": "markdown",
   "id": "c83a3a0e",
   "metadata": {},
   "source": [
    "### Back-etched 20nm apertures in hBN"
   ]
  },
  {
   "cell_type": "markdown",
   "id": "cdad34c8",
   "metadata": {},
   "source": [
    "### Nanofrazor 20nm apertures in hBN"
   ]
  },
  {
   "cell_type": "markdown",
   "id": "b8062191",
   "metadata": {},
   "source": [
    "### Electrochemical characterization of Graphene/hBN/Graphene stack"
   ]
  },
  {
   "cell_type": "markdown",
   "id": "49c5a05d",
   "metadata": {},
   "source": [
    "## Gallium Implantation in hBN with FIB"
   ]
  },
  {
   "cell_type": "markdown",
   "id": "0c3ba8b1",
   "metadata": {},
   "source": [
    "## hBN Transfers on DENS chips for TEM Analysis"
   ]
  },
  {
   "cell_type": "markdown",
   "id": "c6ba7cf4",
   "metadata": {},
   "source": [
    "## FIB carbon deposition in hBN"
   ]
  }
 ],
 "metadata": {
  "kernelspec": {
   "display_name": "Python 3 (ipykernel)",
   "language": "python",
   "name": "python3"
  },
  "language_info": {
   "codemirror_mode": {
    "name": "ipython",
    "version": 3
   },
   "file_extension": ".py",
   "mimetype": "text/x-python",
   "name": "python",
   "nbconvert_exporter": "python",
   "pygments_lexer": "ipython3",
   "version": "3.9.18"
  }
 },
 "nbformat": 4,
 "nbformat_minor": 5
}
